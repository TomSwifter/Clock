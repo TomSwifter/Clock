{
  "nbformat": 4,
  "nbformat_minor": 0,
  "metadata": {
    "colab": {
      "name": "sign_language.ipynb",
      "version": "0.3.2",
      "provenance": [],
      "collapsed_sections": [],
      "toc_visible": true,
      "include_colab_link": true
    },
    "kernelspec": {
      "name": "python3",
      "display_name": "Python 3"
    },
    "accelerator": "GPU"
  },
  "cells": [
    {
      "cell_type": "markdown",
      "metadata": {
        "id": "view-in-github",
        "colab_type": "text"
      },
      "source": [
        "<a href=\"https://colab.research.google.com/github/TomSwifter/Clock/blob/master/sign_language.ipynb\" target=\"_parent\"><img src=\"https://colab.research.google.com/assets/colab-badge.svg\" alt=\"Open In Colab\"/></a>"
      ]
    },
    {
      "metadata": {
        "colab_type": "text",
        "id": "5psZbp9VJifm"
      },
      "cell_type": "markdown",
      "source": [
        "uni # TODO: Replace this with your UNI"
      ]
    },
    {
      "metadata": {
        "_uuid": "385e43a763cf2a2e696526612151db7c079f8909",
        "colab_type": "text",
        "id": "_KSFigbQx3ZB"
      },
      "cell_type": "markdown",
      "source": [
        "# MNIST Sign Language"
      ]
    },
    {
      "metadata": {
        "_kg_hide-input": true,
        "_uuid": "bbcbb713210c674a54142d4ade11072985c94754",
        "colab_type": "code",
        "id": "oYcaXwrdx3ZC",
        "outputId": "d67867d5-f8fd-4b55-f53e-4ef91a3efc0e",
        "colab": {
          "base_uri": "https://localhost:8080/",
          "height": 34
        }
      },
      "cell_type": "code",
      "source": [
        "import numpy as np\n",
        "import pandas as pd\n",
        "import matplotlib.pyplot as plt\n",
        "\n",
        "from sklearn.metrics         import accuracy_score\n",
        "from sklearn.model_selection import train_test_split\n",
        "\n",
        "import keras\n",
        "from keras.utils  import to_categorical\n",
        "from keras.models import Sequential\n",
        "from keras.layers import Dense, Conv2D, MaxPooling2D, Flatten, Dropout\n",
        "from keras import backend as K\n"
      ],
      "execution_count": 0,
      "outputs": [
        {
          "output_type": "stream",
          "text": [
            "Using TensorFlow backend.\n"
          ],
          "name": "stderr"
        }
      ]
    },
    {
      "metadata": {
        "colab_type": "code",
        "id": "0c3SrV8MQqWU",
        "colab": {}
      },
      "cell_type": "code",
      "source": [
        "class SignLanguage:\n",
        "    def __init__(self):\n",
        "        self.model = None # should be my compiled sequential model.\n",
        "        \n",
        "        self.data = {\n",
        "            \"train\": None,\n",
        "            \"test\" : None\n",
        "        }\n",
        "        self.create_model()\n",
        "    \n",
        "    def create_model(self):\n",
        "        \"\"\"\n",
        "        Create a CNN model and save it to self.model\n",
        "        \"\"\"\n",
        "        \n",
        "        model = Sequential() \n",
        "        # Add layers: \n",
        "        model.add(Conv2D(32, kernel_size=(3, 3), activation='relu', input_shape=(28,28,1)))\n",
        "        model.add(Conv2D(64, (3, 3), activation='relu'))\n",
        "        model.add(MaxPooling2D(pool_size=(2, 2)))\n",
        "        model.add(Dropout(0.25))\n",
        "        model.add(Flatten())\n",
        "        model.add(Dense(128, activation='relu'))\n",
        "        model.add(Dropout(0.5))\n",
        "        model.add(Dense(25, activation='softmax'))\n",
        "        #print(model.summary())\n",
        "            \n",
        "        # Compile the model with categorical_crossentropy\n",
        "        model.compile('adam', loss=keras.losses.categorical_crossentropy, metrics=['accuracy'])\n",
        "        \n",
        "        self.model = model\n",
        "    \n",
        "    def prepare_data(self, images, labels):\n",
        "        \"\"\"\n",
        "        Use this method to normalize the dataset and split it into train/test.\n",
        "        Save your data in self.data[\"train\"] and self.data[\"test\"] as a tuple\n",
        "        of (images, labels)\n",
        "        \n",
        "        :param images numpy array of size (num_examples, 28*28)\n",
        "        :param labels numpy array of size (num_examples, )\n",
        "        \"\"\"\n",
        "        #Mainly this splits the data into training and validation sets. \n",
        "        # You may choose to normalize or downsample your data here, as well.\n",
        "        # reshape each example into a 2D image (28, 28, 1)\n",
        "        \n",
        "        \n",
        "        # split data\n",
        "        x_train, x_test, y_train, y_test = train_test_split(images,labels, test_size=0.33)\n",
        "       \n",
        "        \n",
        "        if K.image_data_format() == 'channels_first':\n",
        "          x_train = x_train.reshape(x_train.shape[0], 1, 28, 28)\n",
        "          x_test = x_test.reshape(x_test.shape[0], 1, 28, 28)\n",
        "          input_shape = (1, 28, 28)\n",
        "        else:\n",
        "          x_train = x_train.reshape(x_train.shape[0], 28, 28, 1)\n",
        "          x_test = x_test.reshape(x_test.shape[0], 28, 28, 1)\n",
        "          input_shape = (28, 28, 1)\n",
        "        \n",
        "        # Normalize \n",
        "        x_train = x_train.astype('float32')\n",
        "        x_test = x_test.astype('float32')\n",
        "        x_train /= 255\n",
        "        x_test /= 255\n",
        "#         print('x_train shape:', x_train.shape)\n",
        "#         print(x_train.shape[0], 'train samples')\n",
        "#         print(x_test.shape[0], 'test samples')\n",
        "\n",
        "        # convert class vectors to binary class matrices (One-hot encoding)\n",
        "        y_train = keras.utils.to_categorical(y_train, num_classes)\n",
        "        y_test = keras.utils.to_categorical(y_test, num_classes)\n",
        "        self.data = {\n",
        "            \"train\": (x_train, y_train),\n",
        "            \"test\" : (x_test, y_test)\n",
        "        }\n",
        "    \n",
        "    def train(self, batch_size:int=128, epochs:int=50, verbose:int=1):\n",
        "        \"\"\"\n",
        "        Use model.fit() to train your model. Make sure to return the history for a neat visualization.\n",
        "        \n",
        "        :param batch_size The batch size to use for training\n",
        "        :param epochs     Number of epochs to use for training\n",
        "        :param verbose    Whether or not to print training output\n",
        "        \"\"\"\n",
        "        \n",
        "        # This method invokes the training of the model.\n",
        "        # Make sure to return the generated history object. Your model will be trained for a max of\n",
        "        # 50 epochs during grading. Make sure you are using the input parameters (batch_size,epochs, verbose)\n",
        "        x_train, y_train = self.data[\"train\"]\n",
        "        x_test, y_test = self.data[\"test\"]\n",
        "        \n",
        "        history = self.model.fit(x_train, y_train,\n",
        "          batch_size=batch_size,\n",
        "          epochs=epochs,\n",
        "          verbose=1,\n",
        "          validation_data=(x_test, y_test))\n",
        "\n",
        "        return history\n",
        "    \n",
        "    def predict(self, data):\n",
        "        \"\"\"\n",
        "        Use the trained model to predict labels for test data.\n",
        "        \n",
        "        :param data: numpy array of test images\n",
        "        :return a numpy array of test labels. array size = (num_examples, )\n",
        "        \"\"\"\n",
        "        \n",
        "        # This method will be invoked with the test images. Make sure to\n",
        "        # downsample/resize the test images the same way as the training images, and return a\n",
        "        # list of predictions.\n",
        "        \n",
        "        # Don't forget to normalize the data in the same way as training data\n",
        "        # self.model.predict() and np.argmax( , axis=1) might help\n",
        "        \n",
        "        \n",
        "        x_test = data\n",
        "        \n",
        "        # Normalizing the data \n",
        "        if K.image_data_format() == 'channels_first':\n",
        "          x_test = x_test.reshape(x_test.shape[0], 1, 28, 28)\n",
        "          input_shape = (1, 28, 28)\n",
        "        else:\n",
        "          x_test = x_test.reshape(x_test.shape[0], 28, 28, 1)\n",
        "          input_shape = (28, 28, 1)\n",
        "\n",
        "        x_test = x_test.astype('float32')\n",
        "        x_test /= 255\n",
        "        \n",
        "       \n",
        "        \n",
        "        prediction = self.model.predict(x_test)\n",
        "        prediction = np.argmax(prediction, axis=1)\n",
        "\n",
        "        \n",
        "        return prediction\n",
        "    \n",
        "    def visualize_data(self, data):\n",
        "        \"\"\"\n",
        "        Visualizing the hand gestures\n",
        "        \n",
        "        :param data: numpy array of images\n",
        "        \"\"\"\n",
        "        if data is None: return\n",
        "        \n",
        "        nrows, ncols = 5, 5\n",
        "        fig, axs = plt.subplots(nrows, ncols, figsize=(10, 10), sharex=True, sharey=True)\n",
        "        plt.subplots_adjust(wspace=0, hspace=0)\n",
        "\n",
        "        for i in range(nrows):\n",
        "            for j in range(ncols):\n",
        "                axs[i][j].imshow(data[0][i*ncols+j].reshape(28, 28), cmap='gray')\n",
        "        plt.show()\n",
        "\n",
        "    def visualize_accuracy(self, history):\n",
        "        \"\"\"\n",
        "        Plots out the accuracy measures given a keras history object\n",
        "        \n",
        "        :param history: return value from model.fit()\n",
        "        \"\"\"\n",
        "        if history is None: return\n",
        "        \n",
        "        plt.plot(history.history['acc'])\n",
        "        plt.plot(history.history['val_acc'])\n",
        "        plt.title(\"Accuracy\")\n",
        "        plt.xlabel('epoch')\n",
        "        plt.ylabel('accuracy')\n",
        "        plt.legend(['train','test'])\n",
        "        plt.show()"
      ],
      "execution_count": 0,
      "outputs": []
    },
    {
      "metadata": {
        "colab_type": "text",
        "id": "3sFQekntgZqD"
      },
      "cell_type": "markdown",
      "source": [
        "# Grading Script\n",
        "\n",
        "Do NOT modify this section"
      ]
    },
    {
      "metadata": {
        "id": "NSX10VHzPEp8",
        "colab_type": "code",
        "outputId": "826045f5-6afb-4aab-8e0f-60a0fbd887df",
        "colab": {
          "base_uri": "https://localhost:8080/",
          "height": 34
        }
      },
      "cell_type": "code",
      "source": [
        "if __name__==\"__main__\":\n",
        "    train = pd.read_csv('train.csv')\n",
        "    test  = pd.read_csv('test.csv')\n",
        "\n",
        "    train_labels, test_labels = train['label'].values, test['label'].values\n",
        "    train.drop('label', axis=1, inplace=True)\n",
        "    test.drop('label', axis=1, inplace=True)\n",
        "\n",
        "    num_classes = test_labels.max() + 1\n",
        "    train_images, test_images = train.values, test.values\n",
        "\n",
        "    print(train_images.shape, train_labels.shape, test_images.shape, test_labels.shape)"
      ],
      "execution_count": 0,
      "outputs": [
        {
          "output_type": "stream",
          "text": [
            "(27455, 784) (27455,) (7172, 784) (7172,)\n"
          ],
          "name": "stdout"
        }
      ]
    },
    {
      "metadata": {
        "id": "IpM6Q0Z5PEp-",
        "colab_type": "code",
        "outputId": "02c2e502-f78b-4c65-8757-dcecb3bf4cc7",
        "colab": {
          "base_uri": "https://localhost:8080/",
          "height": 139
        }
      },
      "cell_type": "code",
      "source": [
        "if __name__==\"__main__\":\n",
        "    my_model = SignLanguage()\n",
        "    my_model.prepare_data(train_images, train_labels)"
      ],
      "execution_count": 0,
      "outputs": [
        {
          "output_type": "stream",
          "text": [
            "WARNING:tensorflow:From /usr/local/lib/python3.6/dist-packages/tensorflow/python/framework/op_def_library.py:263: colocate_with (from tensorflow.python.framework.ops) is deprecated and will be removed in a future version.\n",
            "Instructions for updating:\n",
            "Colocations handled automatically by placer.\n",
            "WARNING:tensorflow:From /usr/local/lib/python3.6/dist-packages/keras/backend/tensorflow_backend.py:3445: calling dropout (from tensorflow.python.ops.nn_ops) with keep_prob is deprecated and will be removed in a future version.\n",
            "Instructions for updating:\n",
            "Please use `rate` instead of `keep_prob`. Rate should be set to `rate = 1 - keep_prob`.\n"
          ],
          "name": "stdout"
        }
      ]
    },
    {
      "metadata": {
        "id": "vVyrej0TPEp_",
        "colab_type": "code",
        "outputId": "21d05357-180c-4bce-a6b3-9e54da95aede",
        "colab": {
          "base_uri": "https://localhost:8080/",
          "height": 595
        }
      },
      "cell_type": "code",
      "source": [
        "if __name__==\"__main__\":\n",
        "    my_model.visualize_data(my_model.data[\"train\"])"
      ],
      "execution_count": 0,
      "outputs": [
        {
          "output_type": "display_data",
          "data": {
            "image/png": "[encoded data removed]",
            "text/plain": [
              "<Figure size 720x720 with 25 Axes>"
            ]
          },
          "metadata": {
            "tags": []
          }
        }
      ]
    },
    {
      "metadata": {
        "scrolled": false,
        "id": "1Xrp_94PPEqB",
        "colab_type": "code",
        "outputId": "9f9f6456-cb4d-4cf2-fd60-230d65276fa8",
        "colab": {
          "base_uri": "https://localhost:8080/",
          "height": 1403
        }
      },
      "cell_type": "code",
      "source": [
        "if __name__==\"__main__\":\n",
        "    history = my_model.train(epochs=30, verbose=1)\n",
        "    my_model.visualize_accuracy(history)"
      ],
      "execution_count": 0,
      "outputs": [
        {
          "output_type": "stream",
          "text": [
            "WARNING:tensorflow:From /usr/local/lib/python3.6/dist-packages/tensorflow/python/ops/math_ops.py:3066: to_int32 (from tensorflow.python.ops.math_ops) is deprecated and will be removed in a future version.\n",
            "Instructions for updating:\n",
            "Use tf.cast instead.\n",
            "Train on 18394 samples, validate on 9061 samples\n",
            "Epoch 1/30\n",
            "18394/18394 [==============================] - 5s 254us/step - loss: 2.0697 - acc: 0.3795 - val_loss: 0.5840 - val_acc: 0.8636\n",
            "Epoch 2/30\n",
            "18394/18394 [==============================] - 2s 85us/step - loss: 0.6633 - acc: 0.7862 - val_loss: 0.1351 - val_acc: 0.9801\n",
            "Epoch 3/30\n",
            "18394/18394 [==============================] - 2s 85us/step - loss: 0.3260 - acc: 0.8950 - val_loss: 0.0386 - val_acc: 0.9988\n",
            "Epoch 4/30\n",
            "18394/18394 [==============================] - 2s 85us/step - loss: 0.2005 - acc: 0.9350 - val_loss: 0.0155 - val_acc: 0.9992\n",
            "Epoch 5/30\n",
            "18394/18394 [==============================] - 2s 83us/step - loss: 0.1487 - acc: 0.9532 - val_loss: 0.0072 - val_acc: 0.9990\n",
            "Epoch 6/30\n",
            "18394/18394 [==============================] - 1s 81us/step - loss: 0.1155 - acc: 0.9645 - val_loss: 0.0038 - val_acc: 0.9999\n",
            "Epoch 7/30\n",
            "18394/18394 [==============================] - 1s 81us/step - loss: 0.0990 - acc: 0.9667 - val_loss: 0.0020 - val_acc: 1.0000\n",
            "Epoch 8/30\n",
            "18394/18394 [==============================] - 2s 82us/step - loss: 0.0859 - acc: 0.9718 - val_loss: 0.0022 - val_acc: 1.0000\n",
            "Epoch 9/30\n",
            "18394/18394 [==============================] - 2s 82us/step - loss: 0.0727 - acc: 0.9768 - val_loss: 0.0011 - val_acc: 1.0000\n",
            "Epoch 10/30\n",
            "18394/18394 [==============================] - 1s 82us/step - loss: 0.0630 - acc: 0.9781 - val_loss: 7.4386e-04 - val_acc: 1.0000\n",
            "Epoch 11/30\n",
            "18394/18394 [==============================] - 1s 82us/step - loss: 0.0620 - acc: 0.9792 - val_loss: 4.1257e-04 - val_acc: 1.0000\n",
            "Epoch 12/30\n",
            "18394/18394 [==============================] - 2s 82us/step - loss: 0.0572 - acc: 0.9808 - val_loss: 3.1485e-04 - val_acc: 1.0000\n",
            "Epoch 13/30\n",
            "18394/18394 [==============================] - 1s 81us/step - loss: 0.0537 - acc: 0.9819 - val_loss: 3.4455e-04 - val_acc: 1.0000\n",
            "Epoch 14/30\n",
            "18394/18394 [==============================] - 2s 82us/step - loss: 0.0497 - acc: 0.9822 - val_loss: 2.4417e-04 - val_acc: 1.0000\n",
            "Epoch 15/30\n",
            "18394/18394 [==============================] - 1s 81us/step - loss: 0.0412 - acc: 0.9861 - val_loss: 2.9857e-04 - val_acc: 1.0000\n",
            "Epoch 16/30\n",
            "18394/18394 [==============================] - 2s 82us/step - loss: 0.0454 - acc: 0.9837 - val_loss: 4.1965e-04 - val_acc: 1.0000\n",
            "Epoch 17/30\n",
            "18394/18394 [==============================] - 1s 81us/step - loss: 0.0416 - acc: 0.9852 - val_loss: 1.1288e-04 - val_acc: 1.0000\n",
            "Epoch 18/30\n",
            "18394/18394 [==============================] - 2s 82us/step - loss: 0.0401 - acc: 0.9853 - val_loss: 2.8147e-04 - val_acc: 1.0000\n",
            "Epoch 19/30\n",
            "18394/18394 [==============================] - 1s 81us/step - loss: 0.0401 - acc: 0.9867 - val_loss: 1.9173e-04 - val_acc: 1.0000\n",
            "Epoch 20/30\n",
            "18394/18394 [==============================] - 2s 82us/step - loss: 0.0377 - acc: 0.9879 - val_loss: 4.8155e-05 - val_acc: 1.0000\n",
            "Epoch 21/30\n",
            "18394/18394 [==============================] - 1s 82us/step - loss: 0.0352 - acc: 0.9887 - val_loss: 9.7507e-05 - val_acc: 1.0000\n",
            "Epoch 22/30\n",
            "18394/18394 [==============================] - 2s 82us/step - loss: 0.0362 - acc: 0.9873 - val_loss: 8.0404e-05 - val_acc: 1.0000\n",
            "Epoch 23/30\n",
            "18394/18394 [==============================] - 2s 82us/step - loss: 0.0297 - acc: 0.9899 - val_loss: 4.3190e-05 - val_acc: 1.0000\n",
            "Epoch 24/30\n",
            "18394/18394 [==============================] - 1s 81us/step - loss: 0.0325 - acc: 0.9874 - val_loss: 7.3425e-05 - val_acc: 1.0000\n",
            "Epoch 25/30\n",
            "18394/18394 [==============================] - 1s 81us/step - loss: 0.0283 - acc: 0.9901 - val_loss: 2.4550e-05 - val_acc: 1.0000\n",
            "Epoch 26/30\n",
            "18394/18394 [==============================] - 1s 81us/step - loss: 0.0282 - acc: 0.9903 - val_loss: 1.8775e-05 - val_acc: 1.0000\n",
            "Epoch 27/30\n",
            "18394/18394 [==============================] - 1s 81us/step - loss: 0.0290 - acc: 0.9896 - val_loss: 2.6945e-05 - val_acc: 1.0000\n",
            "Epoch 28/30\n",
            "18394/18394 [==============================] - 2s 82us/step - loss: 0.0317 - acc: 0.9888 - val_loss: 8.3191e-05 - val_acc: 1.0000\n",
            "Epoch 29/30\n",
            "18394/18394 [==============================] - 2s 82us/step - loss: 0.0291 - acc: 0.9892 - val_loss: 6.8436e-05 - val_acc: 1.0000\n",
            "Epoch 30/30\n",
            "18394/18394 [==============================] - 1s 81us/step - loss: 0.0262 - acc: 0.9908 - val_loss: 2.5186e-05 - val_acc: 1.0000\n"
          ],
          "name": "stdout"
        },
        {
          "output_type": "display_data",
          "data": {
            "image/png": "[encoded data removed]",
            "text/plain": [
              "<Figure size 432x288 with 1 Axes>"
            ]
          },
          "metadata": {
            "tags": []
          }
        }
      ]
    },
    {
      "metadata": {
        "colab_type": "code",
        "id": "SSthbsGxm1-z",
        "outputId": "51f97566-f46c-45a9-aea9-76bbc518f46f",
        "colab": {
          "base_uri": "https://localhost:8080/",
          "height": 34
        }
      },
      "cell_type": "code",
      "source": [
        "if __name__==\"__main__\":\n",
        "    y_pred = my_model.predict(test_images)\n",
        "    accuracy = accuracy_score(test_labels, y_pred)\n",
        "    print(accuracy)"
      ],
      "execution_count": 0,
      "outputs": [
        {
          "output_type": "stream",
          "text": [
            "0.9012827663134412\n"
          ],
          "name": "stdout"
        }
      ]
    },
    {
      "metadata": {
        "id": "8o_43pghlTT2",
        "colab_type": "code",
        "colab": {}
      },
      "cell_type": "code",
      "source": [
        ""
      ],
      "execution_count": 0,
      "outputs": []
    }
  ]
}